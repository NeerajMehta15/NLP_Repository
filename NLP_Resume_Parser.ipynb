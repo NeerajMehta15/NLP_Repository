{
  "nbformat": 4,
  "nbformat_minor": 0,
  "metadata": {
    "colab": {
      "provenance": [],
      "mount_file_id": "1-B1R5k_Zb0djeOEHkOdL3NpP8R4czA3-",
      "authorship_tag": "ABX9TyP3dEA8I1pZhkh+4n+9jZbg",
      "include_colab_link": true
    },
    "kernelspec": {
      "name": "python3",
      "display_name": "Python 3"
    },
    "language_info": {
      "name": "python"
    }
  },
  "cells": [
    {
      "cell_type": "markdown",
      "metadata": {
        "id": "view-in-github",
        "colab_type": "text"
      },
      "source": [
        "<a href=\"https://colab.research.google.com/github/NeerajMehta15/NLP_Repository/blob/main/NLP_Resume_Parser.ipynb\" target=\"_parent\"><img src=\"https://colab.research.google.com/assets/colab-badge.svg\" alt=\"Open In Colab\"/></a>"
      ]
    },
    {
      "cell_type": "code",
      "execution_count": 11,
      "metadata": {
        "colab": {
          "base_uri": "https://localhost:8080/",
          "height": 1000
        },
        "collapsed": true,
        "id": "LkI7LJaZlESM",
        "outputId": "bd2604de-7d78-4ecd-fe1c-d82122fe9254"
      },
      "outputs": [
        {
          "output_type": "stream",
          "name": "stdout",
          "text": [
            "Requirement already satisfied: spacy in /usr/local/lib/python3.10/dist-packages (3.7.5)\n",
            "Requirement already satisfied: spacy-legacy<3.1.0,>=3.0.11 in /usr/local/lib/python3.10/dist-packages (from spacy) (3.0.12)\n",
            "Requirement already satisfied: spacy-loggers<2.0.0,>=1.0.0 in /usr/local/lib/python3.10/dist-packages (from spacy) (1.0.5)\n",
            "Requirement already satisfied: murmurhash<1.1.0,>=0.28.0 in /usr/local/lib/python3.10/dist-packages (from spacy) (1.0.11)\n",
            "Requirement already satisfied: cymem<2.1.0,>=2.0.2 in /usr/local/lib/python3.10/dist-packages (from spacy) (2.0.10)\n",
            "Requirement already satisfied: preshed<3.1.0,>=3.0.2 in /usr/local/lib/python3.10/dist-packages (from spacy) (3.0.9)\n",
            "Requirement already satisfied: thinc<8.3.0,>=8.2.2 in /usr/local/lib/python3.10/dist-packages (from spacy) (8.2.5)\n",
            "Requirement already satisfied: wasabi<1.2.0,>=0.9.1 in /usr/local/lib/python3.10/dist-packages (from spacy) (1.1.3)\n",
            "Requirement already satisfied: srsly<3.0.0,>=2.4.3 in /usr/local/lib/python3.10/dist-packages (from spacy) (2.5.0)\n",
            "Requirement already satisfied: catalogue<2.1.0,>=2.0.6 in /usr/local/lib/python3.10/dist-packages (from spacy) (2.0.10)\n",
            "Requirement already satisfied: weasel<0.5.0,>=0.1.0 in /usr/local/lib/python3.10/dist-packages (from spacy) (0.4.1)\n",
            "Requirement already satisfied: typer<1.0.0,>=0.3.0 in /usr/local/lib/python3.10/dist-packages (from spacy) (0.15.1)\n",
            "Requirement already satisfied: tqdm<5.0.0,>=4.38.0 in /usr/local/lib/python3.10/dist-packages (from spacy) (4.67.1)\n",
            "Requirement already satisfied: requests<3.0.0,>=2.13.0 in /usr/local/lib/python3.10/dist-packages (from spacy) (2.32.3)\n",
            "Requirement already satisfied: pydantic!=1.8,!=1.8.1,<3.0.0,>=1.7.4 in /usr/local/lib/python3.10/dist-packages (from spacy) (2.10.4)\n",
            "Requirement already satisfied: jinja2 in /usr/local/lib/python3.10/dist-packages (from spacy) (3.1.5)\n",
            "Requirement already satisfied: setuptools in /usr/local/lib/python3.10/dist-packages (from spacy) (75.1.0)\n",
            "Requirement already satisfied: packaging>=20.0 in /usr/local/lib/python3.10/dist-packages (from spacy) (24.2)\n",
            "Requirement already satisfied: langcodes<4.0.0,>=3.2.0 in /usr/local/lib/python3.10/dist-packages (from spacy) (3.5.0)\n",
            "Requirement already satisfied: numpy>=1.19.0 in /usr/local/lib/python3.10/dist-packages (from spacy) (1.26.4)\n",
            "Requirement already satisfied: language-data>=1.2 in /usr/local/lib/python3.10/dist-packages (from langcodes<4.0.0,>=3.2.0->spacy) (1.3.0)\n",
            "Requirement already satisfied: annotated-types>=0.6.0 in /usr/local/lib/python3.10/dist-packages (from pydantic!=1.8,!=1.8.1,<3.0.0,>=1.7.4->spacy) (0.7.0)\n",
            "Requirement already satisfied: pydantic-core==2.27.2 in /usr/local/lib/python3.10/dist-packages (from pydantic!=1.8,!=1.8.1,<3.0.0,>=1.7.4->spacy) (2.27.2)\n",
            "Requirement already satisfied: typing-extensions>=4.12.2 in /usr/local/lib/python3.10/dist-packages (from pydantic!=1.8,!=1.8.1,<3.0.0,>=1.7.4->spacy) (4.12.2)\n",
            "Requirement already satisfied: charset-normalizer<4,>=2 in /usr/local/lib/python3.10/dist-packages (from requests<3.0.0,>=2.13.0->spacy) (3.4.1)\n",
            "Requirement already satisfied: idna<4,>=2.5 in /usr/local/lib/python3.10/dist-packages (from requests<3.0.0,>=2.13.0->spacy) (3.10)\n",
            "Requirement already satisfied: urllib3<3,>=1.21.1 in /usr/local/lib/python3.10/dist-packages (from requests<3.0.0,>=2.13.0->spacy) (2.3.0)\n",
            "Requirement already satisfied: certifi>=2017.4.17 in /usr/local/lib/python3.10/dist-packages (from requests<3.0.0,>=2.13.0->spacy) (2024.12.14)\n",
            "Requirement already satisfied: blis<0.8.0,>=0.7.8 in /usr/local/lib/python3.10/dist-packages (from thinc<8.3.0,>=8.2.2->spacy) (0.7.11)\n",
            "Requirement already satisfied: confection<1.0.0,>=0.0.1 in /usr/local/lib/python3.10/dist-packages (from thinc<8.3.0,>=8.2.2->spacy) (0.1.5)\n",
            "Requirement already satisfied: click>=8.0.0 in /usr/local/lib/python3.10/dist-packages (from typer<1.0.0,>=0.3.0->spacy) (8.1.8)\n",
            "Requirement already satisfied: shellingham>=1.3.0 in /usr/local/lib/python3.10/dist-packages (from typer<1.0.0,>=0.3.0->spacy) (1.5.4)\n",
            "Requirement already satisfied: rich>=10.11.0 in /usr/local/lib/python3.10/dist-packages (from typer<1.0.0,>=0.3.0->spacy) (13.9.4)\n",
            "Requirement already satisfied: cloudpathlib<1.0.0,>=0.7.0 in /usr/local/lib/python3.10/dist-packages (from weasel<0.5.0,>=0.1.0->spacy) (0.20.0)\n",
            "Requirement already satisfied: smart-open<8.0.0,>=5.2.1 in /usr/local/lib/python3.10/dist-packages (from weasel<0.5.0,>=0.1.0->spacy) (7.1.0)\n",
            "Requirement already satisfied: MarkupSafe>=2.0 in /usr/local/lib/python3.10/dist-packages (from jinja2->spacy) (3.0.2)\n",
            "Requirement already satisfied: marisa-trie>=1.1.0 in /usr/local/lib/python3.10/dist-packages (from language-data>=1.2->langcodes<4.0.0,>=3.2.0->spacy) (1.2.1)\n",
            "Requirement already satisfied: markdown-it-py>=2.2.0 in /usr/local/lib/python3.10/dist-packages (from rich>=10.11.0->typer<1.0.0,>=0.3.0->spacy) (3.0.0)\n",
            "Requirement already satisfied: pygments<3.0.0,>=2.13.0 in /usr/local/lib/python3.10/dist-packages (from rich>=10.11.0->typer<1.0.0,>=0.3.0->spacy) (2.18.0)\n",
            "Requirement already satisfied: wrapt in /usr/local/lib/python3.10/dist-packages (from smart-open<8.0.0,>=5.2.1->weasel<0.5.0,>=0.1.0->spacy) (1.17.0)\n",
            "Requirement already satisfied: mdurl~=0.1 in /usr/local/lib/python3.10/dist-packages (from markdown-it-py>=2.2.0->rich>=10.11.0->typer<1.0.0,>=0.3.0->spacy) (0.1.2)\n",
            "Requirement already satisfied: pdfminer.six in /usr/local/lib/python3.10/dist-packages (20240706)\n",
            "Requirement already satisfied: charset-normalizer>=2.0.0 in /usr/local/lib/python3.10/dist-packages (from pdfminer.six) (3.4.1)\n",
            "Requirement already satisfied: cryptography>=36.0.0 in /usr/local/lib/python3.10/dist-packages (from pdfminer.six) (43.0.3)\n",
            "Requirement already satisfied: cffi>=1.12 in /usr/local/lib/python3.10/dist-packages (from cryptography>=36.0.0->pdfminer.six) (1.17.1)\n",
            "Requirement already satisfied: pycparser in /usr/local/lib/python3.10/dist-packages (from cffi>=1.12->cryptography>=36.0.0->pdfminer.six) (2.22)\n",
            "Collecting pdfplumber\n",
            "  Downloading pdfplumber-0.11.5-py3-none-any.whl.metadata (42 kB)\n",
            "\u001b[2K     \u001b[90m━━━━━━━━━━━━━━━━━━━━━━━━━━━━━━━━━━━━━━━━\u001b[0m \u001b[32m42.5/42.5 kB\u001b[0m \u001b[31m2.4 MB/s\u001b[0m eta \u001b[36m0:00:00\u001b[0m\n",
            "\u001b[?25hCollecting pdfminer.six==20231228 (from pdfplumber)\n",
            "  Downloading pdfminer.six-20231228-py3-none-any.whl.metadata (4.2 kB)\n",
            "Requirement already satisfied: Pillow>=9.1 in /usr/local/lib/python3.10/dist-packages (from pdfplumber) (11.1.0)\n",
            "Collecting pypdfium2>=4.18.0 (from pdfplumber)\n",
            "  Downloading pypdfium2-4.30.1-py3-none-manylinux_2_17_x86_64.manylinux2014_x86_64.whl.metadata (48 kB)\n",
            "\u001b[2K     \u001b[90m━━━━━━━━━━━━━━━━━━━━━━━━━━━━━━━━━━━━━━━━\u001b[0m \u001b[32m48.2/48.2 kB\u001b[0m \u001b[31m3.5 MB/s\u001b[0m eta \u001b[36m0:00:00\u001b[0m\n",
            "\u001b[?25hRequirement already satisfied: charset-normalizer>=2.0.0 in /usr/local/lib/python3.10/dist-packages (from pdfminer.six==20231228->pdfplumber) (3.4.1)\n",
            "Requirement already satisfied: cryptography>=36.0.0 in /usr/local/lib/python3.10/dist-packages (from pdfminer.six==20231228->pdfplumber) (43.0.3)\n",
            "Requirement already satisfied: cffi>=1.12 in /usr/local/lib/python3.10/dist-packages (from cryptography>=36.0.0->pdfminer.six==20231228->pdfplumber) (1.17.1)\n",
            "Requirement already satisfied: pycparser in /usr/local/lib/python3.10/dist-packages (from cffi>=1.12->cryptography>=36.0.0->pdfminer.six==20231228->pdfplumber) (2.22)\n",
            "Downloading pdfplumber-0.11.5-py3-none-any.whl (59 kB)\n",
            "\u001b[2K   \u001b[90m━━━━━━━━━━━━━━━━━━━━━━━━━━━━━━━━━━━━━━━━\u001b[0m \u001b[32m59.5/59.5 kB\u001b[0m \u001b[31m4.4 MB/s\u001b[0m eta \u001b[36m0:00:00\u001b[0m\n",
            "\u001b[?25hDownloading pdfminer.six-20231228-py3-none-any.whl (5.6 MB)\n",
            "\u001b[2K   \u001b[90m━━━━━━━━━━━━━━━━━━━━━━━━━━━━━━━━━━━━━━━━\u001b[0m \u001b[32m5.6/5.6 MB\u001b[0m \u001b[31m55.9 MB/s\u001b[0m eta \u001b[36m0:00:00\u001b[0m\n",
            "\u001b[?25hDownloading pypdfium2-4.30.1-py3-none-manylinux_2_17_x86_64.manylinux2014_x86_64.whl (2.9 MB)\n",
            "\u001b[2K   \u001b[90m━━━━━━━━━━━━━━━━━━━━━━━━━━━━━━━━━━━━━━━━\u001b[0m \u001b[32m2.9/2.9 MB\u001b[0m \u001b[31m48.2 MB/s\u001b[0m eta \u001b[36m0:00:00\u001b[0m\n",
            "\u001b[?25hInstalling collected packages: pypdfium2, pdfminer.six, pdfplumber\n",
            "  Attempting uninstall: pdfminer.six\n",
            "    Found existing installation: pdfminer.six 20240706\n",
            "    Uninstalling pdfminer.six-20240706:\n",
            "      Successfully uninstalled pdfminer.six-20240706\n",
            "Successfully installed pdfminer.six-20231228 pdfplumber-0.11.5 pypdfium2-4.30.1\n"
          ]
        },
        {
          "output_type": "display_data",
          "data": {
            "application/vnd.colab-display-data+json": {
              "pip_warning": {
                "packages": [
                  "pdfminer"
                ]
              },
              "id": "a56593eda8644169b51d69034f834b10"
            }
          },
          "metadata": {}
        }
      ],
      "source": [
        "!pip install spacy\n",
        "!pip install pdfminer.six\n",
        "!pip install pdfplumber"
      ]
    },
    {
      "cell_type": "code",
      "source": [
        "#Importing python libraries\n",
        "import re\n",
        "import pdfplumber\n",
        "from pdfminer.high_level import extract_text"
      ],
      "metadata": {
        "id": "nT0W_xVNq3V9"
      },
      "execution_count": 1,
      "outputs": []
    },
    {
      "cell_type": "code",
      "source": [
        "def extract_text_with_pdfplumber(pdf_path):\n",
        "    text = \"\"\n",
        "    with pdfplumber.open(pdf_path) as pdf:\n",
        "        for page in pdf.pages:\n",
        "            text += page.extract_text()\n",
        "    return text\n",
        "\n",
        "pdf_path = '/content/drive/MyDrive/CV_Neeraj_Mehta.pdf'\n",
        "text = extract_text_with_pdfplumber(pdf_path)\n",
        "print(text)\n"
      ],
      "metadata": {
        "colab": {
          "base_uri": "https://localhost:8080/"
        },
        "id": "GqGBDGhKrPh9",
        "outputId": "42b00298-6fbf-4b9e-cca0-8d974daeb878"
      },
      "execution_count": 43,
      "outputs": [
        {
          "output_type": "stream",
          "name": "stdout",
          "text": [
            "Neeraj Mehta\n",
            "+918860642364 | Neerajmehta15@hotmail.com | github.com/NeerajMehta15 | linkedin.com/in/neerajmehtaprofile/\n",
            "Education\n",
            "8.1/10 PGDMinMarketingandMIS,IndianInstituteofManagement(IIM)|Rohtak,India 2017‑19\n",
            "7.4/10 BTechinECE,GuruGobindSinghIndraprasthaUniversity|Delhi,India 2010‑14\n",
            "Skills\n",
            "Skills DataAnalytics,Datamodeling,DataVisualization,CXStrategy,ProductDevelopment,Operational&Growthstartegy\n",
            "TechnicalSkills Python(PyTorch,Huggingface,Pandas,Scikit‑learn,Seaborn,NLTKetc.),SQL,PowerBI,NLP,Excel,G‑sheets\n",
            "Certifications DataScientist(Datacamp),DataScientistassociate(Datacamp)\n",
            "Experience\n",
            "StanzaLiving,SeniorManager‑Founder’soffice|Gurgaon Oct2024‑Present\n",
            "• WorkingonthetransformationofISoperationstooptimizeleadconversion,teamefficiency,andoverallsalesperformance\n",
            "• Leadingtheintegrationofmulti‑vendorcommercecapabilitiesintoStanza’secosystemtoexpandrevenuestreams\n",
            "StanzaLiving,Manager‑Founder’soffice|Gurgaon Nov2023‑Sep2024\n",
            "• DevelopedHKproductthatoptimizedroomrecomm.&guestfeedback,reducingcomplaintsby36%andimprovingcleanliness\n",
            "• Developedsupport2.0:Enhancedcustomerself‑serviceandintegratedvendors,resultingina21%reductioninticketvolume\n",
            "• Streamlinedonboardingwithone‑clickaccessandoptimizedoperations,resultinginafasterprocessandimprovedexperience\n",
            "• Referral:Enhancedvisibilitywitharedesignedapp,WhatsApp,andin‑appmessaging,drivinga4xincreaseinreferralawareness\n",
            "• DevisedORMstrategies,raisingpropertieswithGMBratingsabove4.0from23%to48%andboostingleadsviaG‑searchby10%\n",
            "StanzaLiving,Manager‑CXStrategyandAnalytics|Gurgaon Nov2021‑Oct2023\n",
            "• LedanalyticsteaminleveragingdatatoidentifykeyCXpainpoints,implementingdata‑drivensolutions,increasingNPSby30%\n",
            "• DevelopedweeklyPan‑IndiaCXdashboardsinPowerBI,leveragingSQLtoextract,analyse,anddeliveractionableinsightsatscale\n",
            "• BuiltPython‑basedchurnmodelusingRandomForest,preciselyidentifyinghigh‑riskcustomersforproactiveinterventions\n",
            "• Developedrenewalpricingframeworkandautomatedrenewalprocessestoachieve10%YoYimprovementinretentionrate\n",
            "• Implementedreal‑timeconsumerfeedbackloop,increasingresponseratesby40%,leadingtofasterissueresolution\n",
            "• Designedemployeeincentivesfor1500staff,boostingengagement,reducingchurn,&improvingkeymetricsincludingCSATby12%\n",
            "ZSAssociates,AssociateConsultant‑AdvanceAnalytics|Gurgaon May2020‑0ct2021\n",
            "• Managedateamof5+associatesintheAdvanceQuantitativemethodpod,successfullydeliveredprojectswitharevenueof$̃2M\n",
            "• Deliveredprojectsontime,budget,andwithsatisfiedclients.Reduceddeliverytimeby10%throughstreamlinedprocesses\n",
            "• Designedandimplementedconjointanalysisstudies,forecastingmarketsharefornewdrugs,impactinglaunchstrategies\n",
            "• Unveiledhigh‑potentialpatientsegmentsthroughmachinelearningregression,guidingclient’stargetedmarketinginitiatives\n",
            "• Ledinsightfulstudiesondrugadoption,cannibalization,andprofilevariations,uncoveringvaluableinsightsforclients\n",
            "Cognizant,ProductOwner‑Consultant|Chennai Apr2019‑Apr2020\n",
            "• Developedproductplansanduserstoriesforfourhigh‑priorityprojectfeatures,aligningwithclientbusinessrequirements\n",
            "• Prioritizeuserstorybacklogoffeaturesandcapability,facilitatedreviewsessionswithclienttoelicitandfinalizetherequirements\n",
            "• Managedcross‑functionalteamof9membersforaFortune20client,successfullydeliveringweb‑basedtradingplatform\n",
            "• Managedthevision,roadmap,andworkbacklogfortheMSAzureOilfieldanalyticsdashboardsolutionthroughoutitslife‑cycle\n",
            "• Analyzedindustrytrendsincludingtechnologiesandevolvingbusinessmodels,andprovidedrecommendationstomeetclientneeds\n",
            "TataConsultingservices,NetworkEngineer|Gurgaon Sep2014‑Jun2017\n",
            "• Cateredtoaretailclient’s25Kemployeesacross40countriesbyprovidingITservicesonnetworkinfrastructureissues\n",
            "• Collaboratedcloselywiththecybersecurityteamtoeffectivelysecuretheclientenvironmentfromexternalandinternalvulnerabilities\n",
            "• AwardedtheCenterofExcellenceawardfortechnicalskillsandsignificantcontributionstoprocessimprovement\n",
            "Projects\n",
            "Spotifysongrecommender DevelopedaPython‑basedrecommendationenginetodeliverpersonalizedmusicsuggestions\n",
            "AirBnBpriceprediction EngineeredaPython‑basedMLmodelforAirbnbpricepredictionsusinglocationandamenitydata\n",
            "InternshipExperience\n",
            "CognizantConsulting,BusinessAssociates‑Intern|Chennai Apr2018‑May2018\n",
            "• Designed6digitalbusinessmaturityassessmentframeworkandquestionnairetoanalyzetheclient’sO&Goperations\n",
            "• DesignedquestionnairetomaptheorganizationscomplexproductionoperationstotheBusinessmaturityassessmentframework\n",
            "• Achievement:ReceivedPPO\n",
            "Others\n",
            "Hobbies Trekking,Motorbikerides,Reading(Non‑fiction)\n"
          ]
        }
      ]
    },
    {
      "cell_type": "code",
      "source": [
        "# Extract contract number\n",
        "def extract_contact_number_from_resume(text):\n",
        "    contact_number = None\n",
        "    contract_pattern = r\"\\+?\\d{10,12}\"  # This pattern matches phone numbers with or without a '+' at the start\n",
        "\n",
        "    match = re.search(contract_pattern, text)\n",
        "    if match:\n",
        "        contact_number = match.group()\n",
        "\n",
        "    return contact_number"
      ],
      "metadata": {
        "id": "iz-KHDKOA5p4"
      },
      "execution_count": 24,
      "outputs": []
    },
    {
      "cell_type": "code",
      "source": [
        "#Extract email id\n",
        "def extract_email_from_resume(text):\n",
        "    email = None\n",
        "\n",
        "    email_pattern = r\"\\b[A-Za-z0-9._%+-]+@[A-Za-z0-9.-]+\\.[A-Za-z]{2,}\\b\"\n",
        "    match = re.search(email_pattern, text)\n",
        "    if match:\n",
        "        email = match.group()\n",
        "\n",
        "    return email"
      ],
      "metadata": {
        "id": "uuvml_LeCoLX"
      },
      "execution_count": 32,
      "outputs": []
    },
    {
      "cell_type": "code",
      "source": [
        "def extract_github_username(text):\n",
        "    github_username = None\n",
        "    github_pattern = r\"github\\.com/[A-Za-z0-9_-]+\"\n",
        "\n",
        "    match = re.search(github_pattern, text)\n",
        "    if match:\n",
        "        github_username = match.group()\n",
        "\n",
        "    return github_username"
      ],
      "metadata": {
        "id": "2Pt7gxYBEx4O"
      },
      "execution_count": 47,
      "outputs": []
    },
    {
      "cell_type": "code",
      "source": [
        "#Exctracting Skills:\n",
        "def extract_skills_from_resume(text, skills_list):\n",
        "    skills = []\n",
        "\n",
        "    # Search for skills in the resume text\n",
        "    for skill in skills_list:\n",
        "        pattern = r\"\\b{}\\b\".format(re.escape(skill))\n",
        "        match = re.search(pattern, text, re.IGNORECASE)\n",
        "        if match:\n",
        "            skills.append(skill)\n",
        "\n",
        "    return skills"
      ],
      "metadata": {
        "id": "gy1PRE3lCvNB"
      },
      "execution_count": 14,
      "outputs": []
    },
    {
      "cell_type": "code",
      "source": [
        "skills_list =  [\n",
        "        \"Data Analytics\",\n",
        "        \"Data Modeling\",\n",
        "        \"Data Visualization\",\n",
        "        \"Customer Experience (CX) Strategy\",\n",
        "        \"Product Development\",\n",
        "        \"Operational & Growth Strategy\",\n",
        "        \"Python\",\n",
        "        \"PyTorch\",\n",
        "        \"Huggingface\",\n",
        "        \"Pandas\",\n",
        "        \"Scikit-learn\",\n",
        "        \"Seaborn\",\n",
        "        \"NLTK\",\n",
        "        \"SQL\",\n",
        "        \"PowerBI\",\n",
        "        \"Natural Language Processing (NLP)\",\n",
        "        \"Excel\",\n",
        "        \"Google Sheets (G-sheets)\"\n",
        "    ]\n"
      ],
      "metadata": {
        "id": "mPSL0xjZC_0W"
      },
      "execution_count": 52,
      "outputs": []
    },
    {
      "cell_type": "code",
      "source": [
        "#Extracting education\n",
        "def extract_education_from_resume(text):\n",
        "    education = []\n",
        "\n",
        "    # Use regex pattern to find education information\n",
        "    pattern = r\"(?i)(?:(?:Bachelor|B\\.S\\.|B\\.A\\.|Master|M\\.S\\.|M\\.A\\.|Ph\\.D\\.)\\s(?:[A-Za-z]+\\s)*[A-Za-z]+)\"\n",
        "    matches = re.findall(pattern, text)\n",
        "    for match in matches:\n",
        "        education.append(match.strip())\n",
        "\n",
        "    return education"
      ],
      "metadata": {
        "id": "bqB_TUHfDvh8"
      },
      "execution_count": null,
      "outputs": []
    },
    {
      "cell_type": "code",
      "source": [
        "def extract_college_name(text):\n",
        "    lines = text.split('\\n')\n",
        "    college_pattern = r\"(?i).*college.*\"\n",
        "    for line in lines:\n",
        "        if re.match(college_pattern, line):\n",
        "            return line.strip()\n",
        "    return None\n",
        "\n",
        "# Example usage:\n",
        "    text = extract_text_from_pdf(r\"C:\\Users\\SANKET\\Downloads\\Untitled-resume.pdf\")\n",
        "\n",
        "\n",
        "college_name = extract_college_name(text)\n",
        "if college_name:\n",
        "    print(\"College:\", college_name)\n",
        "else:\n",
        "    print(\"College name not found.\")"
      ],
      "metadata": {
        "id": "seafVlyAD2on"
      },
      "execution_count": null,
      "outputs": []
    },
    {
      "cell_type": "code",
      "source": [
        "def extract_experience(text):\n",
        "    lines = text.split('\\n')\n",
        "    college_pattern = r\"(?i).*college.*\"\n",
        "    for line in lines:\n",
        "        if re.match(college_pattern, line):\n",
        "            return line.strip()\n",
        "    return None"
      ],
      "metadata": {
        "id": "O-aELNppEZr_"
      },
      "execution_count": null,
      "outputs": []
    }
  ]
}